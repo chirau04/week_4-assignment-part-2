{
 "cells": [
  {
   "cell_type": "code",
   "execution_count": 2,
   "id": "ae169f04-803e-47e0-9e62-5e894e9a7eb2",
   "metadata": {},
   "outputs": [],
   "source": [
    "class Car:\n",
    "    def __init__(self, brand, model, year):\n",
    "        self.brand = brand\n",
    "        self.model = model\n",
    "        self.year = year\n",
    "        self.is_running = False"
   ]
  },
  {
   "cell_type": "code",
   "execution_count": 6,
   "id": "91ee1c06-589c-4cca-b5ea-63a252b65cff",
   "metadata": {},
   "outputs": [],
   "source": [
    "def start_engine(self):\n",
    "    if not self.is_running:\n",
    "        print(f\"The{self.year}{self.brand}{self.model}'s engine is now running.\")\n",
    "        self.is_running = True\n",
    "    else:\n",
    "        print(\"The engine is already running.\")"
   ]
  },
  {
   "cell_type": "code",
   "execution_count": 7,
   "id": "91ab2bf3-7b50-4c6a-b551-dda9309ed42d",
   "metadata": {},
   "outputs": [],
   "source": [
    "def stop_engine(self):\n",
    "    if self.is_running:\n",
    "        print(f\"The {self.year} {self.brand} {self.model}'s engine is now stopped,\")\n",
    "        self.is_running = False \n",
    "    else:\n",
    "        print(\"The engine is already stopped.\")"
   ]
  },
  {
   "cell_type": "code",
   "execution_count": 9,
   "id": "4f08d56b-d545-409c-8b5b-4af20550c71f",
   "metadata": {},
   "outputs": [],
   "source": [
    "car1 = Car(brand=\"Toyota\", model=\"camry\", year=2022)"
   ]
  },
  {
   "cell_type": "code",
   "execution_count": 11,
   "id": "0177395d-7fd8-4d67-8151-19cff83d505c",
   "metadata": {},
   "outputs": [],
   "source": [
    "car2 = Car(brand=\"Honda\", model=\"Civic\", year= 2021)"
   ]
  },
  {
   "cell_type": "code",
   "execution_count": 16,
   "id": "4be89b36-7f8f-42b9-95e7-6a202bff1348",
   "metadata": {},
   "outputs": [
    {
     "ename": "AttributeError",
     "evalue": "'Car' object has no attribute 'start_engine'",
     "output_type": "error",
     "traceback": [
      "\u001b[0;31m---------------------------------------------------------------------------\u001b[0m",
      "\u001b[0;31mAttributeError\u001b[0m                            Traceback (most recent call last)",
      "Cell \u001b[0;32mIn[16], line 1\u001b[0m\n\u001b[0;32m----> 1\u001b[0m \u001b[43mcar1\u001b[49m\u001b[38;5;241;43m.\u001b[39;49m\u001b[43mstart_engine\u001b[49m()\n",
      "\u001b[0;31mAttributeError\u001b[0m: 'Car' object has no attribute 'start_engine'"
     ]
    }
   ],
   "source": [
    "car1.start_engine()"
   ]
  },
  {
   "cell_type": "code",
   "execution_count": 17,
   "id": "8ace676a-2b5d-4f57-9686-dbf25acaa610",
   "metadata": {},
   "outputs": [
    {
     "ename": "AttributeError",
     "evalue": "'Car' object has no attribute 'start_engine'",
     "output_type": "error",
     "traceback": [
      "\u001b[0;31m---------------------------------------------------------------------------\u001b[0m",
      "\u001b[0;31mAttributeError\u001b[0m                            Traceback (most recent call last)",
      "Cell \u001b[0;32mIn[17], line 1\u001b[0m\n\u001b[0;32m----> 1\u001b[0m \u001b[43mcar2\u001b[49m\u001b[38;5;241;43m.\u001b[39;49m\u001b[43mstart_engine\u001b[49m()\n",
      "\u001b[0;31mAttributeError\u001b[0m: 'Car' object has no attribute 'start_engine'"
     ]
    }
   ],
   "source": [
    "car2.start_engine()"
   ]
  },
  {
   "cell_type": "code",
   "execution_count": 18,
   "id": "c80112c2-cc8c-4d0a-bb49-ad9125f758f4",
   "metadata": {},
   "outputs": [
    {
     "ename": "AttributeError",
     "evalue": "'Car' object has no attribute 'stop_engine'",
     "output_type": "error",
     "traceback": [
      "\u001b[0;31m---------------------------------------------------------------------------\u001b[0m",
      "\u001b[0;31mAttributeError\u001b[0m                            Traceback (most recent call last)",
      "Cell \u001b[0;32mIn[18], line 1\u001b[0m\n\u001b[0;32m----> 1\u001b[0m \u001b[43mcar1\u001b[49m\u001b[38;5;241;43m.\u001b[39;49m\u001b[43mstop_engine\u001b[49m()\n",
      "\u001b[0;31mAttributeError\u001b[0m: 'Car' object has no attribute 'stop_engine'"
     ]
    }
   ],
   "source": [
    "car1.stop_engine()"
   ]
  },
  {
   "cell_type": "code",
   "execution_count": 19,
   "id": "543314df-66c6-4acd-92d5-aa71f7ca42bc",
   "metadata": {},
   "outputs": [
    {
     "ename": "AttributeError",
     "evalue": "'Car' object has no attribute 'stop_engine'",
     "output_type": "error",
     "traceback": [
      "\u001b[0;31m---------------------------------------------------------------------------\u001b[0m",
      "\u001b[0;31mAttributeError\u001b[0m                            Traceback (most recent call last)",
      "Cell \u001b[0;32mIn[19], line 1\u001b[0m\n\u001b[0;32m----> 1\u001b[0m \u001b[43mcar2\u001b[49m\u001b[38;5;241;43m.\u001b[39;49m\u001b[43mstop_engine\u001b[49m()\n",
      "\u001b[0;31mAttributeError\u001b[0m: 'Car' object has no attribute 'stop_engine'"
     ]
    }
   ],
   "source": [
    "car2.stop_engine()"
   ]
  },
  {
   "cell_type": "markdown",
   "id": "7b7c39b6-4de9-460b-bd87-5fcbaa63e802",
   "metadata": {},
   "source": [
    "#there are 4 pillars of oops "
   ]
  },
  {
   "cell_type": "code",
   "execution_count": 22,
   "id": "8ea59ea0-2ef6-4b67-bb01-07d7eafbea83",
   "metadata": {},
   "outputs": [],
   "source": [
    " #Encapsulation"
   ]
  },
  {
   "cell_type": "code",
   "execution_count": null,
   "id": "bdc54dbd-4784-4f24-8542-b74417b7fb1f",
   "metadata": {},
   "outputs": [],
   "source": [
    "#Abstraction"
   ]
  },
  {
   "cell_type": "code",
   "execution_count": 23,
   "id": "17964d80-b1db-4884-b50a-68b4f2a693dc",
   "metadata": {},
   "outputs": [],
   "source": [
    "#Inheritance"
   ]
  },
  {
   "cell_type": "code",
   "execution_count": 24,
   "id": "714187b3-24b3-4fb8-a0d2-12e2621de2eb",
   "metadata": {},
   "outputs": [],
   "source": [
    "#Polymorphism"
   ]
  },
  {
   "cell_type": "code",
   "execution_count": 25,
   "id": "d0e36edf-15b8-4318-908a-24ed4ebe1e57",
   "metadata": {},
   "outputs": [],
   "source": [
    "class Person:\n",
    "    def __init__(self, name, age):\n",
    "        self.name = name\n",
    "        self.age = age"
   ]
  },
  {
   "cell_type": "code",
   "execution_count": 26,
   "id": "559d4907-9b23-407d-9f52-2beb0d672743",
   "metadata": {},
   "outputs": [],
   "source": [
    "def introduce(self):\n",
    "    return f\"Hi, I'm {self.name}, and I'm {self.age} years old.\""
   ]
  },
  {
   "cell_type": "code",
   "execution_count": 27,
   "id": "08d969ab-31e2-447d-8426-a44a6fcdbe97",
   "metadata": {},
   "outputs": [],
   "source": [
    "person1 = Person(name=\"Alice\", age= 25)"
   ]
  },
  {
   "cell_type": "code",
   "execution_count": 28,
   "id": "af4297c6-4b49-4c3c-81dd-6c3d316c08b6",
   "metadata": {},
   "outputs": [
    {
     "name": "stdout",
     "output_type": "stream",
     "text": [
      "Alice\n"
     ]
    }
   ],
   "source": [
    "print(person1.name)"
   ]
  },
  {
   "cell_type": "code",
   "execution_count": 29,
   "id": "f7491926-5786-4ce5-b880-a3a4bbbe8de1",
   "metadata": {},
   "outputs": [
    {
     "name": "stdout",
     "output_type": "stream",
     "text": [
      "25\n"
     ]
    }
   ],
   "source": [
    "print(person1.age)"
   ]
  },
  {
   "cell_type": "code",
   "execution_count": 33,
   "id": "6803f195-0365-4bb1-ad88-c3c7bf16ea5f",
   "metadata": {},
   "outputs": [
    {
     "ename": "AttributeError",
     "evalue": "'Person' object has no attribute 'introduce'",
     "output_type": "error",
     "traceback": [
      "\u001b[0;31m---------------------------------------------------------------------------\u001b[0m",
      "\u001b[0;31mAttributeError\u001b[0m                            Traceback (most recent call last)",
      "Cell \u001b[0;32mIn[33], line 1\u001b[0m\n\u001b[0;32m----> 1\u001b[0m \u001b[38;5;28mprint\u001b[39m(\u001b[43mperson1\u001b[49m\u001b[43m \u001b[49m\u001b[38;5;241;43m.\u001b[39;49m\u001b[43mintroduce\u001b[49m())\n",
      "\u001b[0;31mAttributeError\u001b[0m: 'Person' object has no attribute 'introduce'"
     ]
    }
   ],
   "source": [
    "print(person1 .introduce())"
   ]
  },
  {
   "cell_type": "markdown",
   "id": "547e4ed5-5133-4b16-be87-8f667f1475ca",
   "metadata": {},
   "source": [
    "#here are some reasons why self is used in oops"
   ]
  },
  {
   "cell_type": "code",
   "execution_count": 34,
   "id": "3b2e336c-571c-4dfe-918f-382c7f777a28",
   "metadata": {},
   "outputs": [],
   "source": [
    "# Instance-specific access"
   ]
  },
  {
   "cell_type": "code",
   "execution_count": 35,
   "id": "eb9eb52f-891a-4da1-8dff-ccc603695e02",
   "metadata": {},
   "outputs": [],
   "source": [
    "# Method invocation "
   ]
  },
  {
   "cell_type": "code",
   "execution_count": 36,
   "id": "69cef587-f347-4cfa-9646-e9b00334e1ed",
   "metadata": {},
   "outputs": [],
   "source": [
    "# attribute assignment"
   ]
  },
  {
   "cell_type": "code",
   "execution_count": 43,
   "id": "d0a9f90a-907b-4cef-9633-d1e9eb594905",
   "metadata": {},
   "outputs": [],
   "source": [
    "class MyClass:\n",
    "    def __init__(self, attribute):\n",
    "        self.attribute = attribute"
   ]
  },
  {
   "cell_type": "code",
   "execution_count": 44,
   "id": "be6e86a1-ba07-41ca-ae29-fa03228b2813",
   "metadata": {},
   "outputs": [],
   "source": [
    "def display_attribute(self):\n",
    "    print(\"Attribute:\", self.attribute)"
   ]
  },
  {
   "cell_type": "code",
   "execution_count": 45,
   "id": "91adc4a7-dadf-4a15-963a-7e9e4cb651e6",
   "metadata": {},
   "outputs": [],
   "source": [
    "obj = MyClass(attribute  = \"example\")"
   ]
  },
  {
   "cell_type": "code",
   "execution_count": 46,
   "id": "f4cdcc16-7931-4208-9704-341827fa620c",
   "metadata": {},
   "outputs": [
    {
     "ename": "AttributeError",
     "evalue": "'MyClass' object has no attribute 'display_attribute'",
     "output_type": "error",
     "traceback": [
      "\u001b[0;31m---------------------------------------------------------------------------\u001b[0m",
      "\u001b[0;31mAttributeError\u001b[0m                            Traceback (most recent call last)",
      "Cell \u001b[0;32mIn[46], line 1\u001b[0m\n\u001b[0;32m----> 1\u001b[0m \u001b[43mobj\u001b[49m\u001b[38;5;241;43m.\u001b[39;49m\u001b[43mdisplay_attribute\u001b[49m()\n",
      "\u001b[0;31mAttributeError\u001b[0m: 'MyClass' object has no attribute 'display_attribute'"
     ]
    }
   ],
   "source": [
    "obj.display_attribute()"
   ]
  },
  {
   "cell_type": "markdown",
   "id": "44bdb09b-a470-4856-8767-e29d2b8b14e2",
   "metadata": {},
   "source": [
    "#there are 5 types of inheritance"
   ]
  },
  {
   "cell_type": "code",
   "execution_count": 50,
   "id": "2ef8660e-d059-41f3-baea-9d17256f4b67",
   "metadata": {},
   "outputs": [],
   "source": [
    "#single inheritance"
   ]
  },
  {
   "cell_type": "code",
   "execution_count": 51,
   "id": "b2d1c60e-6082-484a-9ede-9315e3cd998e",
   "metadata": {},
   "outputs": [],
   "source": [
    "class Animal:\n",
    "    def speak(self):\n",
    "        print(\"Animal speaks\")"
   ]
  },
  {
   "cell_type": "code",
   "execution_count": 52,
   "id": "538351d5-2253-466e-beb6-f7c6067934ea",
   "metadata": {},
   "outputs": [],
   "source": [
    "class Dog(Animal):\n",
    "    def bark(self):\n",
    "        print(\"Dog barks\")"
   ]
  },
  {
   "cell_type": "code",
   "execution_count": 53,
   "id": "68172113-86db-4f53-99d8-186cbed47465",
   "metadata": {},
   "outputs": [],
   "source": [
    "my_dog = Dog()"
   ]
  },
  {
   "cell_type": "code",
   "execution_count": 54,
   "id": "21d16f2e-42a8-4fa8-ada2-89c4509addde",
   "metadata": {},
   "outputs": [
    {
     "name": "stdout",
     "output_type": "stream",
     "text": [
      "Animal speaks\n"
     ]
    }
   ],
   "source": [
    "my_dog.speak()"
   ]
  },
  {
   "cell_type": "code",
   "execution_count": 56,
   "id": "801d4ddc-26d3-4d00-9db7-b3807a5a90d9",
   "metadata": {},
   "outputs": [
    {
     "name": "stdout",
     "output_type": "stream",
     "text": [
      "Dog barks\n"
     ]
    }
   ],
   "source": [
    "my_dog.bark()"
   ]
  },
  {
   "cell_type": "markdown",
   "id": "dd41b5f9-f3fa-4cf3-bf84-49f757351029",
   "metadata": {},
   "source": [
    "#multiple inheritance"
   ]
  },
  {
   "cell_type": "markdown",
   "id": "a6b91267-2343-4bb0-8f88-9d67ee60448b",
   "metadata": {},
   "source": [
    "#multilevel inheritance"
   ]
  },
  {
   "cell_type": "markdown",
   "id": "6625f33b-3a35-49fe-b2c7-afbe09eb43c8",
   "metadata": {},
   "source": [
    "#hierarc"
   ]
  }
 ],
 "metadata": {
  "kernelspec": {
   "display_name": "Python 3 (ipykernel)",
   "language": "python",
   "name": "python3"
  },
  "language_info": {
   "codemirror_mode": {
    "name": "ipython",
    "version": 3
   },
   "file_extension": ".py",
   "mimetype": "text/x-python",
   "name": "python",
   "nbconvert_exporter": "python",
   "pygments_lexer": "ipython3",
   "version": "3.10.8"
  }
 },
 "nbformat": 4,
 "nbformat_minor": 5
}
